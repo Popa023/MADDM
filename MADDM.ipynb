{
  "nbformat": 4,
  "nbformat_minor": 0,
  "metadata": {
    "colab": {
      "name": "MADDM.ipynb",
      "provenance": [],
      "collapsed_sections": [],
      "authorship_tag": "ABX9TyMBjt1oX1tVmtpaw/Lg4oYl",
      "include_colab_link": true
    },
    "kernelspec": {
      "name": "python3",
      "display_name": "Python 3"
    },
    "language_info": {
      "name": "python"
    }
  },
  "cells": [
    {
      "cell_type": "markdown",
      "metadata": {
        "id": "view-in-github",
        "colab_type": "text"
      },
      "source": [
        "<a href=\"https://colab.research.google.com/github/Popa023/MADDM/blob/main/MADDM.ipynb\" target=\"_parent\"><img src=\"https://colab.research.google.com/assets/colab-badge.svg\" alt=\"Open In Colab\"/></a>"
      ]
    },
    {
      "cell_type": "code",
      "source": [
        "!pip install ortools"
      ],
      "metadata": {
        "colab": {
          "base_uri": "https://localhost:8080/",
          "height": 358
        },
        "id": "APnJaipBbGju",
        "outputId": "a628a553-3681-4969-cf82-eefa6928a25a"
      },
      "execution_count": null,
      "outputs": [
        {
          "output_type": "stream",
          "name": "stdout",
          "text": [
            "Collecting ortools\n",
            "  Downloading ortools-9.2.9972-cp37-cp37m-manylinux_2_17_x86_64.manylinux2014_x86_64.whl (14.6 MB)\n",
            "\u001b[K     |████████████████████████████████| 14.6 MB 6.7 MB/s \n",
            "\u001b[?25hRequirement already satisfied: absl-py>=0.13 in /usr/local/lib/python3.7/dist-packages (from ortools) (1.0.0)\n",
            "Collecting protobuf>=3.19.1\n",
            "  Downloading protobuf-3.19.3-cp37-cp37m-manylinux_2_17_x86_64.manylinux2014_x86_64.whl (1.1 MB)\n",
            "\u001b[K     |████████████████████████████████| 1.1 MB 5.7 MB/s \n",
            "\u001b[?25hRequirement already satisfied: numpy>=1.13.3 in /usr/local/lib/python3.7/dist-packages (from ortools) (1.19.5)\n",
            "Requirement already satisfied: six in /usr/local/lib/python3.7/dist-packages (from absl-py>=0.13->ortools) (1.15.0)\n",
            "Installing collected packages: protobuf, ortools\n",
            "  Attempting uninstall: protobuf\n",
            "    Found existing installation: protobuf 3.17.3\n",
            "    Uninstalling protobuf-3.17.3:\n",
            "      Successfully uninstalled protobuf-3.17.3\n",
            "Successfully installed ortools-9.2.9972 protobuf-3.19.3\n"
          ]
        },
        {
          "output_type": "display_data",
          "data": {
            "application/vnd.colab-display-data+json": {
              "pip_warning": {
                "packages": [
                  "google"
                ]
              }
            }
          },
          "metadata": {}
        }
      ]
    },
    {
      "cell_type": "code",
      "execution_count": null,
      "metadata": {
        "colab": {
          "base_uri": "https://localhost:8080/"
        },
        "id": "IvRGySevYrXT",
        "outputId": "63f34817-3d87-4796-d12d-28a707f20266"
      },
      "outputs": [
        {
          "output_type": "stream",
          "name": "stdout",
          "text": [
            "Solution:\n",
            "Optimal Schedule Length: 5.0\n",
            "Machine 0: job_1_task_0   job_0_task_0   \n",
            "           [0,2]          [2,5]          \n",
            "Machine 1: job_1_task_2   job_0_task_1   job_2_task_0   \n",
            "           [0,4]          [4,6]          [6,10]         \n",
            "Machine 2: job_0_task_2   job_2_task_1   job_1_task_1   \n",
            "           [0,2]          [2,5]          [5,6]          \n",
            "\n",
            "\n",
            "Statistics\n",
            "  - conflicts: 0\n",
            "  - branches : 15\n",
            "  - wall time: 0.003378 s\n"
          ]
        }
      ],
      "source": [
        "\"\"\"Minimal jobshop example.\"\"\"\n",
        "import collections\n",
        "from ortools.sat.python import cp_model\n",
        "\n",
        "\n",
        "def main():\n",
        "    \"\"\"Minimal jobshop problem.\"\"\"\n",
        "    # Data.\n",
        "    jobs_data = [  # task = (class_id, activity_time, gorup_id, teacher_id).\n",
        "        [(0, 3), (1, 2), (2, 2)],  # Job0\n",
        "        [(0, 2), (2, 1), (1, 4)],  # Job1\n",
        "        [(1, 4), (2, 3)]  # Job2\n",
        "    ]\n",
        "\n",
        "    class_count = 1 + max(task[0] for job in jobs_data for task in job)\n",
        "    all_classes = range(class_count)\n",
        "    # Computes horizon dynamically as the sum of all durations.\n",
        "    horizon = sum(task[1] for job in jobs_data for task in job)\n",
        "\n",
        "    # Create the model.\n",
        "    model = cp_model.CpModel()\n",
        "\n",
        "    # Named tuple to store information about created variables.\n",
        "    task_type = collections.namedtuple('task_type', 'start end interval')\n",
        "    # Named tuple to manipulate solution information.\n",
        "    assigned_task_type = collections.namedtuple('assigned_task_type',\n",
        "                                                'start job index duration')\n",
        "\n",
        "    # Creates job intervals and add to the corresponding machine lists.\n",
        "    all_tasks = {}\n",
        "    machine_to_intervals = collections.defaultdict(list)\n",
        "\n",
        "    for job_id, job in enumerate(jobs_data):\n",
        "        for task_id, task in enumerate(job):\n",
        "            machine = task[0]\n",
        "            duration = task[1]\n",
        "            suffix = '_%i_%i' % (job_id, task_id)\n",
        "            start_var = model.NewIntVar(0, horizon, 'start' + suffix)\n",
        "            end_var = model.NewIntVar(0, horizon, 'end' + suffix)\n",
        "            interval_var = model.NewIntervalVar(start_var, duration, end_var,\n",
        "                                                'interval' + suffix)\n",
        "            all_tasks[job_id, task_id] = task_type(start=start_var,\n",
        "                                                   end=end_var,\n",
        "                                                   interval=interval_var)\n",
        "            machine_to_intervals[machine].append(interval_var)\n",
        "\n",
        "    # Create and add disjunctive constraints.\n",
        "    for sclass in all_classes:\n",
        "        model.AddNoOverlap(machine_to_intervals[sclass])\n",
        "\n",
        "    # Precedences inside a job.\n",
        "    for job_id, job in enumerate(jobs_data):\n",
        "        for task_id in range(len(job) - 1):\n",
        "            model.Add(all_tasks[job_id, task_id +\n",
        "                                1].start >= all_tasks[job_id, task_id].end)\n",
        "\n",
        "    # Precedences inside a job.\n",
        "    # for job_id, job in enumerate(jobs_data):\n",
        "    #     for task_id in range(len(job) - 1):\n",
        "    #         model.Add(all_tasks[job_id, task_id +\n",
        "    #                             1].start >= all_tasks[job_id, task_id].end)\n",
        "\n",
        "    # Makespan objective.\n",
        "    obj_var = model.NewIntVar(0, horizon, 'makespan')\n",
        "    model.AddMaxEquality(obj_var, [\n",
        "        all_tasks[job_id, len(job) - 1].end\n",
        "        for job_id, job in enumerate(jobs_data)\n",
        "    ])\n",
        "    model.Minimize(obj_var)\n",
        "\n",
        "    # Creates the solver and solve.\n",
        "    solver = cp_model.CpSolver()\n",
        "    status = solver.Solve(model)\n",
        "\n",
        "    if status == cp_model.OPTIMAL or status == cp_model.FEASIBLE:\n",
        "        print('Solution:')\n",
        "        # Create one list of assigned tasks per machine.\n",
        "        assigned_jobs = collections.defaultdict(list)\n",
        "        for job_id, job in enumerate(jobs_data):\n",
        "            for task_id, task in enumerate(job):\n",
        "                machine = task[0]\n",
        "                assigned_jobs[machine].append(\n",
        "                    assigned_task_type(start=solver.Value(\n",
        "                        all_tasks[job_id, task_id].start),\n",
        "                                       job=job_id,\n",
        "                                       index=task_id,\n",
        "                                       duration=task[1]))\n",
        "\n",
        "        # Create per machine output lines.\n",
        "        output = ''\n",
        "        for machine in all_classes:\n",
        "            # Sort by starting time.\n",
        "            assigned_jobs[machine].sort()\n",
        "            sol_line_tasks = 'Machine ' + str(machine) + ': '\n",
        "            sol_line = '           '\n",
        "\n",
        "            for assigned_task in assigned_jobs[machine]:\n",
        "                name = 'job_%i_task_%i' % (assigned_task.job,\n",
        "                                           assigned_task.index)\n",
        "                # Add spaces to output to align columns.\n",
        "                sol_line_tasks += '%-15s' % name\n",
        "\n",
        "                start = assigned_task.start\n",
        "                duration = assigned_task.duration\n",
        "                sol_tmp = '[%i,%i]' % (start, start + duration)\n",
        "                # Add spaces to output to align columns.\n",
        "                sol_line += '%-15s' % sol_tmp\n",
        "\n",
        "            sol_line += '\\n'\n",
        "            sol_line_tasks += '\\n'\n",
        "            output += sol_line_tasks\n",
        "            output += sol_line\n",
        "\n",
        "        # Finally print the solution found.\n",
        "        print(f'Optimal Schedule Length: {solver.ObjectiveValue()}')\n",
        "        print(output)\n",
        "    else:\n",
        "        print('No solution found.')\n",
        "\n",
        "    # Statistics.\n",
        "    print('\\nStatistics')\n",
        "    print('  - conflicts: %i' % solver.NumConflicts())\n",
        "    print('  - branches : %i' % solver.NumBranches())\n",
        "    print('  - wall time: %f s' % solver.WallTime())\n",
        "\n",
        "\n",
        "if __name__ == '__main__':\n",
        "    main()"
      ]
    }
  ]
}